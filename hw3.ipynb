{
 "cells": [
  {
   "cell_type": "markdown",
   "metadata": {},
   "source": [
    "# Homework 3: More String, Lists, and Python Objects (18 pts)"
   ]
  },
  {
   "cell_type": "markdown",
   "metadata": {},
   "source": [
    "name: Shenyi Tang\n",
    "\n",
    "email: tshenyi@umich.edu\n",
    "\n",
    "This homework assignment took me XX hours in total to complete. (Please help us to gauge the difficulty of the assignment.)"
   ]
  },
  {
   "cell_type": "markdown",
   "metadata": {},
   "source": [
    "## Collaboration Disclosure\n",
    "\n",
    "In the cell below, please list *everyone* with whom you discussed any of the homework problems, excluding only the GSIs and the course instructor. \n",
    "\n",
    "If you did not discuss the homework with anyone else, write __\"I did not discuss this homework with anyone.\"__\n",
    "\n",
    "Even if you discuss questions with other, the code you submit must be only yours. All work is checked with the [MOSS plagiarism detector](https://theory.stanford.edu/~aiken/moss/)."
   ]
  },
  {
   "cell_type": "markdown",
   "metadata": {},
   "source": "I did not discuss this homework with anyone."
  },
  {
   "cell_type": "markdown",
   "metadata": {},
   "source": [
    "## Submission Instructions\n",
    "Your homework solutions should be written entirely in this Jupyter notebook file. Once it contains your solutions, you should submit this notebook through Canvas. \n",
    "\n",
    "\n",
    "Before submitting, please make sure to __Cells->Run All__ executes without errors; errors in your code translate directly to point deductions. \n",
    "In general, you don't need to do explicitly raise errors (e.g. with the ```raise``` function) if we don't ask you to in the problem statement.\n",
    "However, even in cases where we ask you to check for errors, your submission should not contain any examples of your functions actually raising those errors.\n",
    "\n",
    "Note that many parts of this homework where you are expected to type in code will have ```NotImplementedError()``` as a placeholder. You need to delete this function and replace it with your own code.\n",
    "\n",
    "## Importing libaries\n",
    "\n",
    "Unless specifically prohibited, you can import any Python library that comes included with Python (e.g. ```math```, ```datetime```) or that has been used in the lecture or homework prompts. You do not need any other libraries to complete the homework. Note that the graders will not install any additional libraries to grade an assignment.\n",
    "\n",
    "\n",
    "<!-- ## Coding style\n",
    "Please follow the [PEP8 guidelines](https://www.python.org/dev/peps/pep-0008/). The `pycodestyle_magic` package will remind you if you are not. To install it, run\n",
    "```\n",
    "pip install flake8 pycodestyle_magic\n",
    "```\n",
    "Once it is installed the following two Jupyter directives will enable syntax checking: -->\n",
    "\n",
    "## Homework tips \n",
    "\n",
    "1. **Start early!** If you run into trouble installing things or importing packages, it’s\n",
    "best to find those problems well in advance, not the night before your assignment is\n",
    "due when we cannot help you!\n",
    "\n",
    "2. **Make sure you back up your work!** At a minimum, do your work in a Dropbox\n",
    "folder. Better yet, use git, which is well worth your time and effort to learn.\n",
    "\n",
    "3. **Be careful to follow directions!** Remember that Python is case sensitive. If\n",
    "you are ask you to define a function called my_function and you define a function\n",
    "called My_Function, you will not receive full credit. You may want to copy-paste\n",
    "the function names below to make sure that the functions in your notebook match.\n",
    "\n",
    "## Error checking\n",
    "\n",
    "You do not need to do error checking (raising errors, etc.) in your code unless we explicitly ask you to so in a problem.\n",
    "\n",
    "## Coding style\n",
    "Please follow the [PEP8 guidelines](https://www.python.org/dev/peps/pep-0008/). The `pycodestyle_magic` package will remind you if you are not. To install it, run\n",
    "```\n",
    "pip install flake8 pycodestyle_magic\n",
    "```\n",
    "Once it is installed the following two Jupyter directives will enable syntax checking:\n",
    "\n",
    "\n",
    "## Nbgrader\n",
    "\n",
    "We will be using `nbgrader` to grade your jupyter notebook. You will notice some `read-only` cells in the assignment that contain `assert` statements. These are tests that your code must pass for your solution to be correct. If any of the tests fail, you will get an python error and not get points for that question. \n",
    "\n",
    "**Note:** The tests shown not are not comprehensive; additional tests will be used at grading time. You are encouraged to read the problem carefully and verify your code covers all possible cases.\n",
    "\n",
    "**Be careful:** If a jupyter notebook cell takes longer than `60s` to run, the autograder will not grade it and you will receive zero credit for that question."
   ]
  },
  {
   "cell_type": "code",
   "metadata": {
    "ExecuteTime": {
     "end_time": "2024-09-11T13:23:43.531632Z",
     "start_time": "2024-09-11T13:23:43.525984Z"
    }
   },
   "source": [
    "import collections\n",
    "import string\n",
    "import itertools"
   ],
   "outputs": [],
   "execution_count": 1
  },
  {
   "cell_type": "markdown",
   "metadata": {},
   "source": [
    "---\n",
    "## Question 1: Infinite sequences (8 pts)\n",
    "For each of the problems below, write a function which generates the given infinite sequence. We should be able to use your generators to access any entry of the sequence no matter how deep."
   ]
  },
  {
   "cell_type": "markdown",
   "metadata": {},
   "source": [
    "**1(a)** (2 pts) The prime numbers are\n",
    "\n",
    "$$2, 3, 5, 7, 11, 13, 17, \\dots$$\n",
    "\n",
    "Give a generator for the primes. (Note: many algorithms exist for this problem. Yours should be efficient enough that we can use it to generate reasonably large prime numbers.)"
   ]
  },
  {
   "cell_type": "code",
   "metadata": {
    "deletable": false,
    "editable": true,
    "nbgrader": {
     "cell_type": "code",
     "checksum": "ec0fc1ad1c3da548dcd00b13f0f5f98e",
     "grade": false,
     "grade_id": "primes",
     "locked": false,
     "schema_version": 3,
     "solution": true
    },
    "slideshow": {
     "slide_type": ""
    },
    "tags": [],
    "ExecuteTime": {
     "end_time": "2024-09-11T19:38:47.752659Z",
     "start_time": "2024-09-11T19:38:47.746826Z"
    }
   },
   "source": [
    "def primes():\n",
    "    # YOUR CODE HERE\n",
    "    # the first prime is 2\n",
    "    p= 2\n",
    "    composite_num = {}\n",
    "    \n",
    "    while True:\n",
    "        if p not in composite_num:\n",
    "            # p is a prime number\n",
    "            yield p\n",
    "            composite_num[p * p] = [p]\n",
    "        else:\n",
    "            for x in composite_num[p]:\n",
    "                composite_num.setdefault(p + x, []).append(x)\n",
    "            del composite_num[p]\n",
    "        p = p + 1\n",
    "        "
   ],
   "outputs": [],
   "execution_count": 6
  },
  {
   "cell_type": "code",
   "metadata": {
    "deletable": false,
    "editable": false,
    "nbgrader": {
     "cell_type": "code",
     "checksum": "f31b467e2800e3317e5a1b5006743e1d",
     "grade": true,
     "grade_id": "correct_prime",
     "locked": false,
     "points": 2,
     "schema_version": 3,
     "solution": false
    },
    "ExecuteTime": {
     "end_time": "2024-09-11T19:38:49.840563Z",
     "start_time": "2024-09-11T19:38:49.837632Z"
    }
   },
   "source": [
    "\"\"\"Check that squares returns the correct output for several inputs\"\"\"\n",
    "p = primes()\n",
    "plist = [2,3,5,7,11,13,17,19,23,29]\n",
    "for i in range(10):\n",
    "    assert next(p) == plist[i]"
   ],
   "outputs": [],
   "execution_count": 7
  },
  {
   "cell_type": "markdown",
   "metadata": {},
   "source": [
    "**1(b)** (3 pts) The *ruler sequence* is\n",
    "\n",
    "$$1, 2, 2, 3, 3, 4, 4, 4, 5, 5, 5, 6, 6, 6, 7, 7, 7, 7\\dots$$\n",
    "\n",
    "The first number (1) appears once; the next two numbers (2 and 3) appear twice, the next three numbers appear three times, etc.\n",
    "\n",
    "Hint: You are highly encouraged to use relevant functions from itertools to make your solution simple"
   ]
  },
  {
   "cell_type": "code",
   "metadata": {
    "deletable": false,
    "editable": true,
    "nbgrader": {
     "cell_type": "code",
     "checksum": "78195e54db92fe7c15670ab17b6a2bdb",
     "grade": false,
     "grade_id": "ruler",
     "locked": false,
     "schema_version": 3,
     "solution": true
    },
    "slideshow": {
     "slide_type": ""
    },
    "tags": [],
    "ExecuteTime": {
     "end_time": "2024-09-14T00:48:49.854445Z",
     "start_time": "2024-09-14T00:48:49.851281Z"
    }
   },
   "source": [
    "def ruler():\n",
    "    n = 1\n",
    "    i = 1\n",
    "    while True:\n",
    "        frame = list(itertools.repeat(n,n))\n",
    "        for j in frame:\n",
    "            k = 0\n",
    "            while k < j:\n",
    "                yield i\n",
    "                k += 1\n",
    "            i += 1\n",
    "        n += 1"
   ],
   "outputs": [],
   "execution_count": 12
  },
  {
   "cell_type": "code",
   "metadata": {
    "deletable": false,
    "editable": false,
    "nbgrader": {
     "cell_type": "code",
     "checksum": "979320ad9c7632a1e856e748299790b2",
     "grade": true,
     "grade_id": "correct_ruler",
     "locked": false,
     "points": 3,
     "schema_version": 3,
     "solution": false
    },
    "ExecuteTime": {
     "end_time": "2024-09-14T00:48:51.143598Z",
     "start_time": "2024-09-14T00:48:51.140956Z"
    }
   },
   "source": [
    "r = ruler()\n",
    "ruler_numbers = [1, 2, 2, 3, 3, 4, 4, 4, 5, 5, 5, 6, 6, 6, 7, 7, 7, 7, 8, 8, 8, 8]\n",
    "for n in ruler_numbers:\n",
    "    assert next(r) == n"
   ],
   "outputs": [],
   "execution_count": 13
  },
  {
   "cell_type": "markdown",
   "metadata": {},
   "source": [
    "**1(c)** (3 pts) The look-and-say sequence  \n",
    "\n",
    "$$1, 11, 21, 1211, 111221, 312211, 13112221, 1113213211, \\dots$$\n",
    "\n",
    "is generated as follows:\n",
    "\n",
    "1. The first entry is one.\n",
    "2. The second entry is generated by reading the first entry aloud: \"one one\"\n",
    "3. The third entry is generated by reading the second entry aloud: \"two ones\"\n",
    "4. The fourth entry is generated by reading the third entry aloud: \"one two and one one\"\n",
    "5. The fifth entry is therefore \"one one, one two, and two ones\"\n",
    "\n",
    "... and so forth. Note that each entry of the sequence should be a `str` object."
   ]
  },
  {
   "cell_type": "code",
   "metadata": {
    "deletable": false,
    "editable": true,
    "nbgrader": {
     "cell_type": "code",
     "checksum": "be1e455a8fd4a19f6a11ae8f7f322185",
     "grade": false,
     "grade_id": "look_say",
     "locked": false,
     "schema_version": 3,
     "solution": true
    },
    "slideshow": {
     "slide_type": ""
    },
    "tags": [],
    "ExecuteTime": {
     "end_time": "2024-09-15T00:14:14.181925Z",
     "start_time": "2024-09-15T00:14:14.177347Z"
    }
   },
   "source": [
    "def look_say():\n",
    "    # YOUR CODE HERE\n",
    "    s = \"1\"\n",
    "    yield s\n",
    "    while True:\n",
    "        new_s = ''\n",
    "        t = [list(g) for k, g in itertools.groupby(s)]\n",
    "        for item in t:\n",
    "            new_s = new_s + str(len(item)) + item[0]\n",
    "        s = new_s\n",
    "        yield s\n",
    "        \n",
    "        "
   ],
   "outputs": [],
   "execution_count": 29
  },
  {
   "cell_type": "code",
   "metadata": {
    "deletable": false,
    "editable": false,
    "nbgrader": {
     "cell_type": "code",
     "checksum": "ba7a444ef7c89e731fdad7d890bfc99b",
     "grade": true,
     "grade_id": "correct_look_say",
     "locked": false,
     "points": 3,
     "schema_version": 3,
     "solution": false
    },
    "ExecuteTime": {
     "end_time": "2024-09-15T00:14:15.754543Z",
     "start_time": "2024-09-15T00:14:15.751212Z"
    }
   },
   "source": [
    "s = look_say()\n",
    "look_say_first_ten = ['1',\n",
    " '11',\n",
    " '21',\n",
    " '1211',\n",
    " '111221',\n",
    " '312211',\n",
    " '13112221',\n",
    " '1113213211',\n",
    " '31131211131221',\n",
    " '13211311123113112211']\n",
    "for i in range(10):\n",
    "    s_i = next(s)\n",
    "    assert isinstance(s_i, str)\n",
    "    assert s_i == look_say_first_ten[i]"
   ],
   "outputs": [],
   "execution_count": 30
  },
  {
   "cell_type": "markdown",
   "metadata": {},
   "source": [
    "### Question 2: Simple ciphers (5 pts)\n",
    "\n",
    "A *cipher* is an algorithm for encrypting or decrypting a text message, called *plaintext*, into *ciphertext*. In this exercise, we will assume that all plaintext to be encrypted or decrypted are composed of the lower-case Roman alphabet, without any punctuation or whitespace. Examples of such messages could be\n",
    "\n",
    "```attackatdawn```\n",
    "\n",
    "or \n",
    "\n",
    "```iamajellyfilleddonut```."
   ]
  },
  {
   "cell_type": "code",
   "metadata": {
    "deletable": false,
    "editable": true,
    "nbgrader": {
     "cell_type": "code",
     "checksum": "a3185d99ed95138bb5421ee329d95cb2",
     "grade": false,
     "grade_id": "enc_caesar",
     "locked": false,
     "schema_version": 3,
     "solution": true
    },
    "slideshow": {
     "slide_type": ""
    },
    "tags": [],
    "ExecuteTime": {
     "end_time": "2024-09-14T18:27:05.858480Z",
     "start_time": "2024-09-14T18:27:05.855323Z"
    }
   },
   "source": [
    "def enc_caesar(s: str, k: int) -> str:\n",
    "    '''\n",
    "    Encrypt the message s using Ceasar cipher with key k.\n",
    "    \n",
    "    >>> enc_caeasar('thequickbrownfoxjumpsoverthelazydog', 1)\n",
    "    'uifrvjdlcspxogpykvnqtpwfsuifmbazeph'\n",
    "    '''\n",
    "    # YOUR CODE HERE\n",
    "    result = ''\n",
    "    for char in s:\n",
    "        new_char = chr((ord(char)-ord(\"a\") + k) % 26 + ord(\"a\"))\n",
    "        result += new_char\n",
    "    return result"
   ],
   "outputs": [],
   "execution_count": 19
  },
  {
   "cell_type": "code",
   "metadata": {
    "deletable": false,
    "editable": false,
    "nbgrader": {
     "cell_type": "code",
     "checksum": "d34957a641578635957775375212a647",
     "grade": true,
     "grade_id": "correct_enc_caesar",
     "locked": false,
     "points": 2,
     "schema_version": 3,
     "solution": false
    },
    "ExecuteTime": {
     "end_time": "2024-09-14T18:27:07.262178Z",
     "start_time": "2024-09-14T18:27:07.259425Z"
    }
   },
   "source": [
    "public_tests = [('thequickbrownfoxjumpsoverthelazydog', 1, 'uifrvjdlcspxogpykvnqtpwfsuifmbazeph'), ('howdoesthiscodehandlewrapping', 18, 'zgovgwklzakugvwzsfvdwojshhafy'),('thekeycanbenegative', -3, 'qebhbvzxkybkbdxqfsb')]\n",
    "for msg, k, enc in public_tests:\n",
    "    assert enc_caesar(msg, k) == enc"
   ],
   "outputs": [],
   "execution_count": 20
  },
  {
   "cell_type": "code",
   "metadata": {
    "deletable": false,
    "editable": true,
    "nbgrader": {
     "cell_type": "code",
     "checksum": "14a77ac20f2ffe45f4a4f17e7610643e",
     "grade": false,
     "grade_id": "dec_caesar",
     "locked": false,
     "schema_version": 3,
     "solution": true
    },
    "slideshow": {
     "slide_type": ""
    },
    "tags": [],
    "ExecuteTime": {
     "end_time": "2024-09-14T19:05:43.552604Z",
     "start_time": "2024-09-14T19:05:43.549686Z"
    }
   },
   "source": [
    "def dec_caesar(s: str, k: int) -> str:\n",
    "    '''\n",
    "    Decrypt the message s using Ceasar cypher with key k.\n",
    "    \n",
    "    >>> dec_caeasar('uifrvjdlcspxogpykvnqtpwfsuifmbazeph', 1)\n",
    "    'thequickbrownfoxjumpsoverthelazydog'\n",
    "    '''\n",
    "    # YOUR CODE HERE\n",
    "    result = ''\n",
    "    for char in s:\n",
    "        new_char = chr(ord(\"z\") - (ord(\"z\") - ord(char) + k) % 26)\n",
    "        result += new_char\n",
    "    return result"
   ],
   "outputs": [],
   "execution_count": 23
  },
  {
   "cell_type": "code",
   "metadata": {
    "deletable": false,
    "editable": false,
    "nbgrader": {
     "cell_type": "code",
     "checksum": "cb49ed8a1d9b720a605beea4b18202dd",
     "grade": true,
     "grade_id": "correct_dec_caesar",
     "locked": false,
     "points": 3,
     "schema_version": 3,
     "solution": false
    },
    "ExecuteTime": {
     "end_time": "2024-09-14T19:05:44.949437Z",
     "start_time": "2024-09-14T19:05:44.946632Z"
    }
   },
   "source": [
    "public_tests = [('thequickbrownfoxjumpsoverthelazydog', 1, 'uifrvjdlcspxogpykvnqtpwfsuifmbazeph'), ('howdoesthiscodehandlewrapping', 18, 'zgovgwklzakugvwzsfvdwojshhafy'),('thekeycanbenegative', -3, 'qebhbvzxkybkbdxqfsb')]\n",
    "for msg, k, enc in public_tests: \n",
    "    assert dec_caesar(enc, k) == msg"
   ],
   "outputs": [],
   "execution_count": 24
  },
  {
   "cell_type": "markdown",
   "metadata": {},
   "source": [
    "### Question 3 (5 pts) Valid String.\n",
    "Given a string s containing just the characters '(', ')', '{', '}', '[' and ']', determine if the input string is valid.\n",
    "\n",
    "An input string is valid if:\n",
    "\n",
    "1) Open brackets must be closed by the same type of brackets.\n",
    "2) Open brackets must be closed in the correct order.\n",
    "3) Every close bracket has a corresponding open bracket of the same type.\n"
   ]
  },
  {
   "cell_type": "code",
   "metadata": {
    "deletable": false,
    "editable": true,
    "nbgrader": {
     "cell_type": "code",
     "checksum": "814026852d375bebf517527a757c98b2",
     "grade": false,
     "grade_id": "is_valid",
     "locked": false,
     "schema_version": 3,
     "solution": true
    },
    "slideshow": {
     "slide_type": ""
    },
    "tags": [],
    "ExecuteTime": {
     "end_time": "2024-09-14T16:58:42.989296Z",
     "start_time": "2024-09-14T16:58:42.983011Z"
    }
   },
   "source": [
    "def is_valid(s):\n",
    "    # YOUR CODE HERE\n",
    "    d = {\")\":\"(\", \"]\":\"[\", \"}\":\"{\"}\n",
    "    stack = collections.deque()\n",
    "    for c in s:\n",
    "        if c in d.values():\n",
    "            stack.append(c)\n",
    "        elif c in d.keys():\n",
    "            if len(stack) == 0 or d[c] != stack.pop():\n",
    "                return False\n",
    "    return True"
   ],
   "outputs": [],
   "execution_count": 14
  },
  {
   "cell_type": "code",
   "metadata": {
    "deletable": false,
    "editable": false,
    "nbgrader": {
     "cell_type": "code",
     "checksum": "2e0c2e9359f29fa50b933a2ef332aafa",
     "grade": true,
     "grade_id": "correct_is_valid",
     "locked": false,
     "points": 5,
     "schema_version": 3,
     "solution": false
    },
    "ExecuteTime": {
     "end_time": "2024-09-14T16:58:44.298001Z",
     "start_time": "2024-09-14T16:58:44.295947Z"
    }
   },
   "source": [
    "assert is_valid('()') == True\n",
    "assert is_valid('([{]}') == False\n",
    "assert is_valid('([{}])') == True"
   ],
   "outputs": [],
   "execution_count": 15
  },
  {
   "cell_type": "code",
   "execution_count": null,
   "metadata": {},
   "outputs": [],
   "source": []
  }
 ],
 "metadata": {
  "kernelspec": {
   "display_name": "Python 3 (ipykernel)",
   "language": "python",
   "name": "python3"
  },
  "language_info": {
   "codemirror_mode": {
    "name": "ipython",
    "version": 3
   },
   "file_extension": ".py",
   "mimetype": "text/x-python",
   "name": "python",
   "nbconvert_exporter": "python",
   "pygments_lexer": "ipython3",
   "version": "3.12.2"
  }
 },
 "nbformat": 4,
 "nbformat_minor": 4
}
