{
 "cells": [
  {
   "cell_type": "markdown",
   "metadata": {},
   "source": [
    "# Homework 8: SQL and PyTorch(21 pts)"
   ]
  },
  {
   "cell_type": "markdown",
   "metadata": {
    "slideshow": {
     "slide_type": ""
    },
    "tags": []
   },
   "source": [
    "name: Shenyi Tang\n",
    "\n",
    "email: tshenyi@umich.edu\n",
    "\n",
    "This homework assignment took me 5 hours in total to complete. (Please help us to gauge the difficulty of the assignment.)"
   ]
  },
  {
   "cell_type": "markdown",
   "metadata": {},
   "source": [
    "## Collaboration Disclosure\n",
    "\n",
    "In the cell below, please list *everyone* with whom you discussed any of the homework problems, excluding only the GSIs and the course instructor. \n",
    "\n",
    "If you did not discuss the homework with anyone else, write __\"I did not discuss this homework with anyone.\"__\n",
    "\n",
    "Even if you discuss questions with other, the code you submit must be only yours. All work is checked with the [MOSS plagiarism detector](https://theory.stanford.edu/~aiken/moss/)."
   ]
  },
  {
   "cell_type": "markdown",
   "metadata": {},
   "source": [
    "---"
   ]
  },
  {
   "cell_type": "markdown",
   "metadata": {
    "editable": false,
    "slideshow": {
     "slide_type": ""
    },
    "tags": []
   },
   "source": [
    "## Submission Instructions\n",
    "Your homework solutions should be written entirely in this Jupyter notebook file. Once it contains your solutions, you should submit this notebook through Canvas. \n",
    "\n",
    "\n",
    "Before submitting, please make sure to __Cells->Run All__ executes without errors; errors in your code translate directly to point deductions. \n",
    "In general, you don't need to do explicitly raise errors (e.g. with the ```raise``` function) if we don't ask you to in the problem statement.\n",
    "However, even in cases where we ask you to check for errors, your submission should not contain any examples of your functions actually raising those errors.\n",
    "\n",
    "Note that many parts of this homework where you are expected to type in code will have ```NotImplementedError()``` as a placeholder. You need to delete this function and replace it with your own code.\n",
    "\n",
    "## Homework tips \n",
    "\n",
    "1. **Start early!** If you run into trouble installing things or importing packages, it’s\n",
    "best to find those problems well in advance, not the night before your assignment is\n",
    "due when we cannot help you!\n",
    "\n",
    "2. **Make sure you back up your work!** At a minimum, do your work in a Dropbox\n",
    "folder. Better yet, use git, which is well worth your time and effort to learn.\n",
    "\n",
    "3. **Be careful to follow directions!** Remember that Python is case sensitive. If\n",
    "you are ask you to define a function called my_function and you define a function\n",
    "called My_Function, you will not receive full credit. You may want to copy-paste\n",
    "the function names below to make sure that the functions in your notebook match.\n",
    "\n",
    "## Error checking\n",
    "\n",
    "You do not need to do error checking (raising errors, etc.) in your code unless we explicitly ask you to so in a problem.\n",
    "\n",
    "\n",
    "## Nbgrader\n",
    "\n",
    "We will be using `nbgrader` to grade your jupyter notebook. You will notice some `read-only` cells in the assignment that contain `assert` statements. These are tests that your code must pass for your solution to be correct. If any of the tests fail, you will get an python error and not get points for that question. \n",
    "\n",
    "**Note:** The tests shown not are not comprehensive; additional tests will be used at grading time. You are encouraged to read the problem carefully and verify your code covers all possible cases.\n",
    "\n",
    "**Be careful:** If a jupyter notebook cell takes longer than `60s` to run, the autograder will not grade it and you will receive zero credit for that question."
   ]
  },
  {
   "cell_type": "markdown",
   "metadata": {},
   "source": [
    "## Question 1: Basic SQL (13 pts)\n",
    "In this problem, you'll interact with a toy SQL database using Python's\n",
    "built-in `sqlite3` package. Documentation can be found at\n",
    "<https://docs.python.org/3/library/sqlite3.html>. For this problem,\n",
    "we'll use a popular toy SQLite database, called Chinook, which\n",
    "represents a digital music collection. See the documentation at <https://github.com/lerocha/chinook-database/blob/master/README.md>\n",
    "for a more detailed explanation. We'll use the `chinook.sqlite` file:"
   ]
  },
  {
   "cell_type": "code",
   "metadata": {
    "ExecuteTime": {
     "end_time": "2024-11-21T15:17:02.518656Z",
     "start_time": "2024-11-21T15:17:02.515870Z"
    }
   },
   "source": [
    "import sqlite3\n",
    "con = sqlite3.connect('chinook.sqlite')\n",
    "cur = con.cursor()"
   ],
   "outputs": [],
   "execution_count": 1
  },
  {
   "cell_type": "markdown",
   "metadata": {
    "deletable": false,
    "editable": false,
    "nbgrader": {
     "cell_type": "markdown",
     "checksum": "2d8a7eb43618ae43de5fec2ebace4add",
     "grade": false,
     "grade_id": "cell-e10bd26a8687d9ce",
     "locked": true,
     "schema_version": 3,
     "solution": false,
     "task": false
    }
   },
   "source": [
    "**1(a)** (2 pt) Load the database using the Python `sqlite3` package. How many tables are in the database? Save the answer in the variable `n_tables`."
   ]
  },
  {
   "cell_type": "code",
   "metadata": {
    "deletable": false,
    "nbgrader": {
     "cell_type": "code",
     "checksum": "2058dbc61296d005826083c5972632e2",
     "grade": false,
     "grade_id": "1a",
     "locked": false,
     "schema_version": 3,
     "solution": true
    },
    "slideshow": {
     "slide_type": ""
    },
    "tags": [],
    "ExecuteTime": {
     "end_time": "2024-11-21T15:27:28.158898Z",
     "start_time": "2024-11-21T15:27:28.152574Z"
    }
   },
   "source": [
    "# YOUR CODE HERE\n",
    "cur.execute(\n",
    "    \"select count(*) \"\n",
    "    \"from sqlite_master \"\n",
    "    \"where type='table';\"\n",
    ")\n",
    "n_tables = cur.fetchone()[0]"
   ],
   "outputs": [],
   "execution_count": 2
  },
  {
   "cell_type": "code",
   "metadata": {
    "deletable": false,
    "editable": false,
    "nbgrader": {
     "cell_type": "code",
     "checksum": "1ec5a927e724f0b160dec0c39d32d221",
     "grade": true,
     "grade_id": "load_ds",
     "locked": false,
     "points": 2,
     "schema_version": 3,
     "solution": false
    },
    "slideshow": {
     "slide_type": ""
    },
    "tags": [],
    "ExecuteTime": {
     "end_time": "2024-11-21T15:27:30.729197Z",
     "start_time": "2024-11-21T15:27:30.726486Z"
    }
   },
   "source": [
    "assert n_tables == 11"
   ],
   "outputs": [],
   "execution_count": 3
  },
  {
   "cell_type": "markdown",
   "metadata": {},
   "source": [
    "**1(b)** (2 pts) What are the names of the tables in the database? Save the answer as\n",
    "    a set of strings, `table_names`. **Note:** you should write Python `sqlite3`\n",
    "    code to answer this; don't just look up the answer in the\n",
    "    documentation!"
   ]
  },
  {
   "cell_type": "code",
   "metadata": {
    "deletable": false,
    "nbgrader": {
     "cell_type": "code",
     "checksum": "14b9deef20a33a2c2f2fbdfc51baefc5",
     "grade": false,
     "grade_id": "1b",
     "locked": false,
     "schema_version": 3,
     "solution": true
    },
    "slideshow": {
     "slide_type": ""
    },
    "tags": [],
    "ExecuteTime": {
     "end_time": "2024-11-21T15:31:46.888669Z",
     "start_time": "2024-11-21T15:31:46.883553Z"
    }
   },
   "source": [
    "# YOUR CODE HERE\n",
    "cur.execute(\"SELECT name FROM sqlite_master WHERE type='table';\")\n",
    "table_names = {row[0] for row in cur.fetchall()}"
   ],
   "outputs": [],
   "execution_count": 4
  },
  {
   "cell_type": "code",
   "metadata": {
    "deletable": false,
    "editable": false,
    "nbgrader": {
     "cell_type": "code",
     "checksum": "e458f82227fa5fc96cfce5602bda39e4",
     "grade": true,
     "grade_id": "correct_1b",
     "locked": false,
     "points": 2,
     "schema_version": 3,
     "solution": false
    },
    "slideshow": {
     "slide_type": ""
    },
    "tags": [],
    "ExecuteTime": {
     "end_time": "2024-11-21T15:31:48.488476Z",
     "start_time": "2024-11-21T15:31:48.485866Z"
    }
   },
   "source": [
    "expected = {'Album', 'Genre', 'Playlist', 'PlaylistTrack', 'Employee', 'Customer', 'InvoiceLine', 'Track', 'Artist', 'MediaType', 'Invoice'}\n",
    "assert table_names == expected"
   ],
   "outputs": [],
   "execution_count": 5
  },
  {
   "cell_type": "markdown",
   "metadata": {},
   "source": [
    "**1(c)** (3 pts) Write a function `albums_starting_with(c)` that takes as an argument a single character `c` and\n",
    "    returns a list of the primary keys (AlbumIds) of all the albums whose titles\n",
    "    start with that character. Your function should ignore case, so that\n",
    "    the inputs \"a\" and \"A\" yield the same results. Include error\n",
    "    checking that raises an error in the event that the input is not a\n",
    "    single character.\n"
   ]
  },
  {
   "cell_type": "code",
   "metadata": {
    "deletable": false,
    "nbgrader": {
     "cell_type": "code",
     "checksum": "56bafd1a6dbb6556e172ff953d2e9e09",
     "grade": false,
     "grade_id": "grade_13",
     "locked": false,
     "schema_version": 3,
     "solution": true
    },
    "slideshow": {
     "slide_type": ""
    },
    "tags": [],
    "ExecuteTime": {
     "end_time": "2024-11-21T15:51:57.098730Z",
     "start_time": "2024-11-21T15:51:57.095746Z"
    }
   },
   "source": [
    "def albums_starting_with(c):\n",
    "    # YOUR CODE HERE\n",
    "    if isinstance(c, str) and len(c) != 1:\n",
    "        raise ValueError(\"The input must be a single character.\")\n",
    "    query = \"\"\"\n",
    "        select AlbumId\n",
    "        from Album\n",
    "        where Title like ? collate nocase;\n",
    "    \"\"\"\n",
    "    cur.execute(query, (c + \"%\",))\n",
    "    albumids = [row[0] for row in cur.fetchall()]\n",
    "    return albumids"
   ],
   "outputs": [],
   "execution_count": 19
  },
  {
   "cell_type": "code",
   "metadata": {
    "deletable": false,
    "editable": false,
    "nbgrader": {
     "cell_type": "code",
     "checksum": "a6e98886421898648fe5df9ae86aef06",
     "grade": true,
     "grade_id": "correct_13",
     "locked": false,
     "points": 3,
     "schema_version": 3,
     "solution": false
    },
    "slideshow": {
     "slide_type": ""
    },
    "tags": [],
    "ExecuteTime": {
     "end_time": "2024-11-21T15:51:58.720310Z",
     "start_time": "2024-11-21T15:51:58.715874Z"
    }
   },
   "source": [
    "res = albums_starting_with('a')\n",
    "assert type(res) == list\n",
    "assert len(res) == 32\n",
    "for i in [10, 14, 15, 24, 26, 29, 74, 167, 319]:\n",
    "    assert i in res\n",
    "\n",
    "try:\n",
    "    albums_starting_with(3)\n",
    "except Exception:\n",
    "    pass\n",
    "else:\n",
    "    raise Exception(\"should raise an exception\")\n",
    "    "
   ],
   "outputs": [],
   "execution_count": 20
  },
  {
   "cell_type": "markdown",
   "metadata": {},
   "source": [
    "**1(d)** (3 pts) Write a function `songs_starting_with(c)` that takes as an argument a single character and\n",
    "    returns a list of the primary keys (TrackIds) of all the **songs** whose album\n",
    "    names begin with that letter. Again, your function should ignore\n",
    "    case and perform error checking as in the previous exercise (again ignoring case).\n",
    "    **Hint:** you'll need a JOIN statement here. Don't forget that you\n",
    "    can use the `cursor.description` attribute to find out about tables\n",
    "    and the names of their columns."
   ]
  },
  {
   "cell_type": "code",
   "metadata": {
    "deletable": false,
    "nbgrader": {
     "cell_type": "code",
     "checksum": "e4182cb63d7998469f5c0a2a3f99e74b",
     "grade": false,
     "grade_id": "grade_4",
     "locked": false,
     "schema_version": 3,
     "solution": true
    },
    "slideshow": {
     "slide_type": ""
    },
    "tags": [],
    "ExecuteTime": {
     "end_time": "2024-11-21T15:58:55.916734Z",
     "start_time": "2024-11-21T15:58:55.911454Z"
    }
   },
   "source": [
    "def songs_starting_with(c):\n",
    "    # YOUR CODE HERE\n",
    "    if isinstance(c, str) and len(c) != 1:\n",
    "        raise ValueError(\"The input must be a single character.\")\n",
    "    query = \"\"\"\n",
    "        select TrackId\n",
    "        from Track as t\n",
    "            left join Album as a\n",
    "            on t.AlbumId = a.AlbumId\n",
    "        where 1=1\n",
    "            and a.Title like ? collate nocase;\n",
    "    \"\"\"\n",
    "    cur.execute(query, (c + \"%\",))\n",
    "    trackid = [row[0] for row in cur.fetchall()]\n",
    "    return trackid"
   ],
   "outputs": [],
   "execution_count": 21
  },
  {
   "cell_type": "code",
   "metadata": {
    "deletable": false,
    "editable": false,
    "nbgrader": {
     "cell_type": "code",
     "checksum": "10daf1f3d270dd9d1d9b5fe9d140483b",
     "grade": true,
     "grade_id": "load_4",
     "locked": false,
     "points": 3,
     "schema_version": 3,
     "solution": false
    },
    "slideshow": {
     "slide_type": ""
    },
    "tags": [],
    "ExecuteTime": {
     "end_time": "2024-11-21T15:58:57.769666Z",
     "start_time": "2024-11-21T15:58:57.763738Z"
    }
   },
   "source": [
    "res = songs_starting_with('a')\n",
    "assert type(res) == list\n",
    "assert len(res) == 369\n",
    "for i in [85, 86, 87, 331, 332, 333, 923, 924, 925]:\n",
    "    assert i in res\n",
    "\n",
    "try:\n",
    "    songs_starting_with(3)\n",
    "except Exception:\n",
    "    pass\n",
    "else:\n",
    "    raise Exception(\"should raise an exception\")\n",
    "\n",
    "try:\n",
    "    songs_starting_with('res')\n",
    "except Exception:\n",
    "    pass\n",
    "else:\n",
    "    raise Exception(\"should raise an exception\")"
   ],
   "outputs": [],
   "execution_count": 22
  },
  {
   "cell_type": "markdown",
   "metadata": {},
   "source": [
    "**1(e)** (3 pts) Write a function `cost_of(c)` that takes as an argument a single character and\n",
    "    returns the cost of buying every song (consider only the songs that were sold - you need to look into InvoiceLine table) whose album begins with that\n",
    "    letter. This cost should be based on the tracks' unit prices when it was sold, so\n",
    "    that the cost of buying a set of tracks is simply the sum of the\n",
    "    unit prices of all the tracks in the set. Again your function should\n",
    "    ignore case and perform appropriate error checking.\n"
   ]
  },
  {
   "cell_type": "code",
   "metadata": {
    "deletable": false,
    "nbgrader": {
     "cell_type": "code",
     "checksum": "02b9cd15d5943899ae5a0d9c97716b31",
     "grade": false,
     "grade_id": "grade_5",
     "locked": false,
     "schema_version": 3,
     "solution": true
    },
    "slideshow": {
     "slide_type": ""
    },
    "tags": [],
    "ExecuteTime": {
     "end_time": "2024-11-21T16:47:30.542077Z",
     "start_time": "2024-11-21T16:47:30.538416Z"
    }
   },
   "source": [
    "def cost_of(c):\n",
    "    # YOUR CODE HERE\n",
    "    if isinstance(c, str) and len(c) != 1:\n",
    "        raise ValueError(\"The input must be a single character.\")\n",
    "    query = \"\"\"\n",
    "        select sum(t.UnitPrice)\n",
    "        from Track as t\n",
    "            left join Album as a\n",
    "                on t.AlbumId = a.AlbumId\n",
    "        where 1=1\n",
    "            and a.Title like ? collate nocase\n",
    "            and t.TrackId in (\n",
    "                select distinct i.TrackId\n",
    "                from InvoiceLine as i\n",
    "            )\n",
    "    \"\"\"\n",
    "    cur.execute(query, (c + \"%\",))\n",
    "    cost = cur.fetchone()[0]\n",
    "    return cost"
   ],
   "outputs": [],
   "execution_count": 51
  },
  {
   "cell_type": "code",
   "metadata": {
    "deletable": false,
    "editable": false,
    "nbgrader": {
     "cell_type": "code",
     "checksum": "30ed9674df15843cd1ff05dda8adbe6f",
     "grade": true,
     "grade_id": "load_5",
     "locked": false,
     "points": 3,
     "schema_version": 3,
     "solution": false
    },
    "slideshow": {
     "slide_type": ""
    },
    "tags": [],
    "ExecuteTime": {
     "end_time": "2024-11-21T16:47:32.158086Z",
     "start_time": "2024-11-21T16:47:32.154042Z"
    }
   },
   "source": [
    "res = cost_of('a')\n",
    "assert type(res) == float\n",
    "assert abs(res - 216.82) < 1e-5\n",
    "\n",
    "try:\n",
    "    cost_of(3)\n",
    "except Exception:\n",
    "    pass\n",
    "else:\n",
    "    raise Exception(\"should raise an exception\")"
   ],
   "outputs": [],
   "execution_count": 52
  },
  {
   "cell_type": "markdown",
   "metadata": {},
   "source": [
    "## Problem 2: Building simple models with Pytorch (8 points) \n",
    "In this problem, you'll use **Pytorch** to build the loss functions for a pair of commonly-used statistical models. \n",
    "\n",
    "We will use variables $X$ and $Y$, which will serve as the predictor (independent variable) and response (dependent variable), respectively. Please use $W$ to denote a parameter that multiplies the predictor, and $b$ to denote a bias parameter (i.e., a parameter that is added)."
   ]
  },
  {
   "cell_type": "markdown",
   "metadata": {},
   "source": [
    "**2(a)** (4 pts)\n",
    "\n",
    "In this model, the binary variable $Y$ is distributed as a Bernoulli random variable with success parameter $\\sigma(W^T X + b)$, where $\\sigma(z) = (1+\\exp(-z))^{-1}$ is the logistic function, $X \\in R^6$ is the predictor random variable, and $W \\in R^6, b \\in R$ are the model parameters. \n",
    " \n",
    "Using **Pytorch** code, implement a class `LogisticRegression` that inherits from `nn.module`. This class should should have two attributes `w` and `b` which should be `nn.parameters` with shapes `(6,1)` and `(1)` respectivelly. \n",
    "\n",
    "This class should a method called `forward` that takes in the predictor random variable `x` with shape `(N, 6)`, where `N` is the number of observations, and returns the success parameter (also known as the prediction of our model on $Y$).\n",
    "\n",
    "**Note:** Please initialize both `w, b` to be __all-one float tensors.__"
   ]
  },
  {
   "cell_type": "code",
   "metadata": {
    "deletable": false,
    "nbgrader": {
     "cell_type": "code",
     "checksum": "0e1c1f68466a8c78fff57424583a98e3",
     "grade": false,
     "grade_id": "grade_21",
     "locked": false,
     "schema_version": 3,
     "solution": true
    },
    "slideshow": {
     "slide_type": ""
    },
    "tags": [],
    "ExecuteTime": {
     "end_time": "2024-11-21T17:19:19.400571Z",
     "start_time": "2024-11-21T17:19:19.393796Z"
    }
   },
   "source": [
    "import torch\n",
    "import torch.nn as nn\n",
    "class LogisticRegression(nn.Module):\n",
    "    # YOUR CODE HERE\n",
    "    def __init__(self):\n",
    "        super(LogisticRegression, self).__init__()\n",
    "    \n",
    "        self.w  = nn.Parameter(torch.ones(6, 1))\n",
    "        self.b = nn.Parameter(torch.ones(1))\n",
    "    \n",
    "    def forward(self, x):\n",
    "        prediction = torch.sigmoid(torch.matmul(x, self.w) + self.b)\n",
    "        return prediction\n",
    "        \n",
    "    "
   ],
   "outputs": [],
   "execution_count": 54
  },
  {
   "cell_type": "code",
   "metadata": {
    "deletable": false,
    "editable": false,
    "nbgrader": {
     "cell_type": "code",
     "checksum": "df5533634491cdff167771db6d6d595e",
     "grade": true,
     "grade_id": "load_21",
     "locked": false,
     "points": 4,
     "schema_version": 3,
     "solution": false
    },
    "slideshow": {
     "slide_type": ""
    },
    "tags": [],
    "ExecuteTime": {
     "end_time": "2024-11-21T17:19:21.620205Z",
     "start_time": "2024-11-21T17:19:21.613951Z"
    }
   },
   "source": [
    "model = LogisticRegression()\n",
    "assert type(model.w) == nn.Parameter\n",
    "assert type(model.b) == nn.Parameter\n",
    "x = torch.eye(6).float()\n",
    "y = model.forward(x)\n",
    "assert y.shape == (6, 1)"
   ],
   "outputs": [],
   "execution_count": 55
  },
  {
   "cell_type": "markdown",
   "metadata": {},
   "source": [
    "**2(b)** (4 pts)\n",
    "\n",
    "Using **Pytorch** code, write a function called `neg_log` that takes in `y_true` (true value of $Y$) and `y_pred` (predicted value of $Y$) and returns the negative log-likelihood loss function. You can assume that both `y_true` and `y_pred` have shapes `N x 1` where `N` is the number of observations. \n",
    " \n",
    " __Hint:__ The loss should be a negative log-likelihood term, summed over all the observations. Remember that $Y$ is Bernoulli distributed which should suggest what the likelihood is. "
   ]
  },
  {
   "cell_type": "code",
   "metadata": {
    "deletable": false,
    "nbgrader": {
     "cell_type": "code",
     "checksum": "064c813bef468e904f00cf7ed16c7b19",
     "grade": false,
     "grade_id": "grade_22",
     "locked": false,
     "schema_version": 3,
     "solution": true
    },
    "slideshow": {
     "slide_type": ""
    },
    "tags": [],
    "ExecuteTime": {
     "end_time": "2024-11-21T17:26:59.970987Z",
     "start_time": "2024-11-21T17:26:59.967793Z"
    }
   },
   "source": [
    "def neg_log(y_true, y_pred):\n",
    "    # YOUR CODE HERE\n",
    "    # Ensure that y_pred values are in the valid range [0, 1]\n",
    "    y_pred = torch.clamp(y_pred, min=1e-10, max=1 - 1e-10)\n",
    "    nll = -torch.sum(y_true * torch.log(y_pred) + (1 - y_true) * torch.log(1 - y_pred))\n",
    "    return nll"
   ],
   "outputs": [],
   "execution_count": 60
  },
  {
   "cell_type": "code",
   "metadata": {
    "deletable": false,
    "editable": false,
    "nbgrader": {
     "cell_type": "code",
     "checksum": "a4093a729c16d1ff7ffe4af555781dc7",
     "grade": true,
     "grade_id": "load_22",
     "locked": false,
     "points": 4,
     "schema_version": 3,
     "solution": false
    },
    "slideshow": {
     "slide_type": ""
    },
    "tags": [],
    "ExecuteTime": {
     "end_time": "2024-11-21T17:27:01.067623Z",
     "start_time": "2024-11-21T17:27:01.063099Z"
    }
   },
   "source": [
    "y_true = torch.tensor([1, 1, 1, 1, 1]).float().view(5, 1)\n",
    "y_pred = torch.tensor([0.5, 0.5, 0.5, 0.5, 0.5]).float().view(5, 1)\n",
    "assert 3.4 < neg_log(y_true, y_pred).item() < 3.6"
   ],
   "outputs": [],
   "execution_count": 61
  }
 ],
 "metadata": {
  "kernelspec": {
   "display_name": "Python 3 (ipykernel)",
   "language": "python",
   "name": "python3"
  },
  "language_info": {
   "codemirror_mode": {
    "name": "ipython",
    "version": 3
   },
   "file_extension": ".py",
   "mimetype": "text/x-python",
   "name": "python",
   "nbconvert_exporter": "python",
   "pygments_lexer": "ipython3",
   "version": "3.12.2"
  }
 },
 "nbformat": 4,
 "nbformat_minor": 4
}
